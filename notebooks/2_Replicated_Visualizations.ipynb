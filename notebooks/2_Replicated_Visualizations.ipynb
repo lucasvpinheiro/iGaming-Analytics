{
 "cells": [
  {
   "cell_type": "markdown",
   "id": "c1439d22",
   "metadata": {},
   "source": [
    "View 1: Monthly Performance | Visualização 1: Desempenho Mensal"
   ]
  },
  {
   "cell_type": "code",
   "execution_count": null,
   "id": "f98ed9bc",
   "metadata": {},
   "outputs": [],
   "source": [
    "monthly = clean_data.groupby(pd.Grouper(key='Month, Year', freq='M')).agg(\n",
    "    New_Players=('Player Game Count', 'sum'),\n",
    "    Total_GGR=('GGR Ucur', 'sum')\n",
    ")\n",
    "\n",
    "fig, ax1 = plt.subplots(figsize=(14,7))\n",
    "ax2 = ax1.twinx()\n",
    "\n",
    "ax1.plot(monthly.index, monthly['New_Players], 'g-', label='Novos Jogadores')\n",
    "ax2.plot(monthly.index, monthly['Total_GGR'], 'b-', label='GGR Total')"
   ]
  },
  {
   "cell_type": "markdown",
   "id": "29632494",
   "metadata": {},
   "source": [
    "View 2: Quarterly Variation | Visualização 2: Variação Trimestral"
   ]
  },
  {
   "cell_type": "code",
   "execution_count": null,
   "id": "52d2d640",
   "metadata": {},
   "outputs": [],
   "source": [
    "quarterly = clean_data.groupby('Quarter').agg(\n",
    "    GGR_Sum=('GGR Ucur', 'sum'),\n",
    "    Wager_Sum=('Wager Ucur', 'sum')\n",
    ").pct_change() * 100\n",
    "\n",
    "plt.figure(figsize=(10,6))\n",
    "quarterly['GGR_Sum'].plot(kind='bar', color=quarterly['GGR_Sum'].apply(\n",
    "    lambda x: 'green' if x > 0 else 'red'))"
   ]
  },
  {
   "cell_type": "markdown",
   "id": "e53f146e",
   "metadata": {},
   "source": [
    "View 3: Blackjack Analysis | Visualização 3: Anpalise de Blackjack"
   ]
  },
  {
   "cell_type": "code",
   "execution_count": null,
   "id": "640de29c",
   "metadata": {},
   "outputs": [],
   "source": [
    "blackjack = clean_data[clean_data['Game category'] == 'Blackjack']\n",
    "morning = blackjack[blackjack['Hour'] < 12]\n",
    "evening = blackjack[blackjack['Hour'] >= 12]\n",
    "\n",
    "fig, (ax1, ax2) = plt.subplots(1, 2, figsize=(14,7))\n",
    "morning['Table Type Commercial'].value_counts().plot.pie(ax=ax1, title='Manhã')\n",
    "evening['Table Type Commercial'].value_counts().plot.pie(ax=ax2, title='Tarde')"
   ]
  },
  {
   "cell_type": "markdown",
   "id": "59c722d6",
   "metadata": {},
   "source": [
    "View 4: Ranking by Country | Visualização 4: Ranking por País"
   ]
  },
  {
   "cell_type": "code",
   "execution_count": null,
   "id": "051f0954",
   "metadata": {},
   "outputs": [],
   "source": [
    "country_rank = clean_data.groupby(['Country', 'Game category'])['GGR Ucur'].sum().unstack()\n",
    "country_rank['Total'] = country_rank.sum(axis=1)\n",
    "country_rank = country_rank.sort_values('Total', ascending=False)\n",
    "country_rank.head(5).plot(kind='bar', stacked=True, figsize=(14,7))"
   ]
  }
 ],
 "metadata": {
  "language_info": {
   "name": "python"
  }
 },
 "nbformat": 4,
 "nbformat_minor": 5
}
