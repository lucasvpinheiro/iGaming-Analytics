{
 "cells": [
  {
   "cell_type": "markdown",
   "id": "9e9db83c",
   "metadata": {},
   "source": [
    "# Data Cleaning and Preparation | Limpeza de Dados e Preparação\n",
    "\n",
    "## Objective | Objetivo\n",
    "\n",
    "- Load raw data from Lipstick Casino | Carregar os dados brutos do Lipstick Casino\n",
    "- Perform necessary cleaning transformations | Realziar limpeza e transformações necessárias\n",
    "- Save processed data for later analysis | Salvar dados processados para análise posterior\n",
    "\n",
    "\n",
    "## 1. Loading and Initial Inspection | Carregamento e Inspeção Inicial"
   ]
  },
  {
   "cell_type": "code",
   "execution_count": null,
   "id": "0839c8e8",
   "metadata": {},
   "outputs": [],
   "source": [
    "import pandas as pd\n",
    "import numpy as np\n",
    "import os\n",
    "from pathlib import Path\n",
    "import warnings\n",
    "warnings.filterwarnings('ignore')\n",
    "\n",
    "# Configure Paths | Configurar Paths\n",
    "current_dir = Path.cwd()\n",
    "data_dir = current_dir.parent / 'data'\n",
    "raw_data_path = data_dir / 'Lipstick_casino_data.xlsx'\n",
    "processed_data_path = data_dir / 'processed' / 'casino_data_processed.parquet'\n",
    "\n",
    "# Create directory for processed data | Criar diretório para dados processados\n",
    "(data_dir / 'processed').mkdir(parents=True, exist_ok=True)"
   ]
  },
  {
   "cell_type": "code",
   "execution_count": null,
   "id": "14e460ea",
   "metadata": {},
   "outputs": [],
   "source": [
    "# Load raw data | Carregar dados brutos\n",
    "print(\"Loading raw data...\")\n",
    "raw_data = pd.read_excel(raw_data_path, sheet_name='Casino Data')\n",
    "\n",
    "# Show basic infos | Mostrar informações básicas\n",
    "print(\"\\nInfos abouth raw data:\")\n",
    "print(f\"Total records: {len(raw_data)}\")\n",
    "print(f\"Total columns: {len(raw_data.columns)}\")\n",
    "print(\"\\nFirst 5 rows:\")\n",
    "display(raw_data.head())"
   ]
  },
  {
   "cell_type": "code",
   "execution_count": null,
   "id": "53ffd217",
   "metadata": {},
   "outputs": [],
   "source": [
    "# Checking missing values | Verificar valores ausentes\n",
    "print(\"\\nMissing values per column:\")\n",
    "print(raw_data.isnull().sum())"
   ]
  },
  {
   "cell_type": "code",
   "execution_count": null,
   "id": "477eebd0",
   "metadata": {},
   "outputs": [],
   "source": [
    "# Data preprocessing | Pré-processamento dos dados\n",
    "print(\"\\nStarting preprocessing...\")\n",
    "\n",
    "# Convert date column| Converter coluna de data\n",
    "raw_data['Month, Year'] = pd.to_datetime(raw_data['Month, Year'])\n",
    "\n",
    "# Create new temporal features | Criar novas features temporais\n",
    "raw_data['Year'] = raw_data['Month, Year'].dt.year\n",
    "raw_data['Quarter'] = raw_data['Month, Year'].dt.quarter\n",
    "raw_data['Month_Name'] = raw_data['Month, Year'].dt.month_name()\n",
    "\n",
    "# Normalize categories | Normalizar categorias\n",
    "raw_data['Game category'] = raw_data['Game category'].str.title().str.strip()\n",
    "raw_data['Country'] = raw_data['Country'].str.title().str.strip()\n",
    "raw_data['Table Type Commercial'] = raw_data['Table Type Commercial'].str.strip()\n",
    "\n",
    "# Calculate Hold % (GGR / Bet Volume) | Calcular Hold % (GGR / Volume de Apostas)\n",
    "raw_data['Hold_Pct'] = raw_data['GGR Ucur'] / raw_data['Wager Ucur']\n",
    "raw_data['Hold_Pct'] = raw_data['Hold_Pct'].replace([np.inf, -np.inf], np.nan)\n",
    "\n",
    "# Handling extreme negative values | Tratar valores negativos extremos\n",
    "raw_data.loc[raw_data['GGR Ucur'] < -10000, 'GGR Ucur'] = np.nan\n",
    "\n",
    "# Consolidate table types | Consolidar tipos de mesa\n",
    "raw_data['Table_Type_Simplified'] = np.where(\n",
    "    raw_data['Table Type Commercial'].str.contains('High Stakes', case=False),\n",
    "    'High Stakes',\n",
    "    'Regular'\n",
    ")"
   ]
  },
  {
   "cell_type": "code",
   "execution_count": null,
   "id": "0fabc7f0",
   "metadata": {},
   "outputs": [],
   "source": [
    "# Save processed data |  Salvar dados processados\n",
    "raw_data.to_parquet(processed_data_path)\n",
    "print(f\"\\nProcessed data saved in: {processed_data_path}\")\n",
    "print(\"Pre-processing completed successfully!\")"
   ]
  }
 ],
 "metadata": {
  "kernelspec": {
   "display_name": "Python 3",
   "language": "python",
   "name": "python3"
  },
  "language_info": {
   "codemirror_mode": {
    "name": "ipython",
    "version": 3
   },
   "file_extension": ".py",
   "mimetype": "text/x-python",
   "name": "python",
   "nbconvert_exporter": "python",
   "pygments_lexer": "ipython3",
   "version": "3.13.2"
  }
 },
 "nbformat": 4,
 "nbformat_minor": 5
}
