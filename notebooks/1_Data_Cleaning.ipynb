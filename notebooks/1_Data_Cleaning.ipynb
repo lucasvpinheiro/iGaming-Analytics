{
 "cells": [
  {
   "cell_type": "markdown",
   "id": "9e9db83c",
   "metadata": {},
   "source": [
    "# Data Cleaning and Preparation | Limpeza de Dados e Preparação\n",
    "\n",
    "## Objective | Objetivo\n",
    "\n",
    "- Load raw data from Lipstick Casino | Carregar os dados brutos do Lipstick Casino\n",
    "- Perform necessary cleaning transformations | Realziar limpeza e transformações necessárias\n",
    "- Save processed data for later analysis | Salvar dados processados para análise posterior\n",
    "\n",
    "\n",
    "## 1. Loading and Initial Inspection | Carregamento e Inspeção Inicial"
   ]
  },
  {
   "cell_type": "code",
   "execution_count": 6,
   "id": "0839c8e8",
   "metadata": {},
   "outputs": [],
   "source": [
    "import pandas as pd\n",
    "import numpy as np\n",
    "import os\n",
    "from pathlib import Path\n",
    "import warnings\n",
    "warnings.filterwarnings('ignore')\n",
    "\n",
    "# Configure Paths | Configurar Paths\n",
    "current_dir = Path.cwd()\n",
    "data_dir = current_dir.parent / 'data'\n",
    "raw_data_path = data_dir / 'Lipstick_casino_data.xlsx'\n",
    "processed_data_path = data_dir / 'processed' / 'casino_data_processed.csv'\n",
    "\n",
    "# Create directory for processed data | Criar diretório para dados processados\n",
    "(data_dir / 'processed').mkdir(parents=True, exist_ok=True)"
   ]
  },
  {
   "cell_type": "code",
   "execution_count": 7,
   "id": "14e460ea",
   "metadata": {},
   "outputs": [
    {
     "name": "stdout",
     "output_type": "stream",
     "text": [
      "Loading raw data...\n",
      "\n",
      "Infos abouth raw data:\n",
      "Total records: 3142\n",
      "Total columns: 12\n",
      "\n",
      "First 5 rows:\n"
     ]
    },
    {
     "data": {
      "text/html": [
       "<div>\n",
       "<style scoped>\n",
       "    .dataframe tbody tr th:only-of-type {\n",
       "        vertical-align: middle;\n",
       "    }\n",
       "\n",
       "    .dataframe tbody tr th {\n",
       "        vertical-align: top;\n",
       "    }\n",
       "\n",
       "    .dataframe thead th {\n",
       "        text-align: right;\n",
       "    }\n",
       "</style>\n",
       "<table border=\"1\" class=\"dataframe\">\n",
       "  <thead>\n",
       "    <tr style=\"text-align: right;\">\n",
       "      <th></th>\n",
       "      <th>Month, Year</th>\n",
       "      <th>Casino Reference</th>\n",
       "      <th>Country</th>\n",
       "      <th>Game category</th>\n",
       "      <th>Table Type Commercial</th>\n",
       "      <th>Table name</th>\n",
       "      <th>user_currency</th>\n",
       "      <th>Month of first_bet_date</th>\n",
       "      <th>GGR Ucur</th>\n",
       "      <th>Wager Ucur</th>\n",
       "      <th>Player Game Count</th>\n",
       "      <th>Bet Spot Count</th>\n",
       "    </tr>\n",
       "  </thead>\n",
       "  <tbody>\n",
       "    <tr>\n",
       "      <th>0</th>\n",
       "      <td>2020-07-01</td>\n",
       "      <td>Lipstick Casino</td>\n",
       "      <td>Estonia</td>\n",
       "      <td>Baccarat</td>\n",
       "      <td>Other</td>\n",
       "      <td>Baccarat A</td>\n",
       "      <td>EUR</td>\n",
       "      <td>January</td>\n",
       "      <td>2</td>\n",
       "      <td>85</td>\n",
       "      <td>4</td>\n",
       "      <td>4</td>\n",
       "    </tr>\n",
       "    <tr>\n",
       "      <th>1</th>\n",
       "      <td>2020-07-01</td>\n",
       "      <td>Lipstick Casino</td>\n",
       "      <td>Estonia</td>\n",
       "      <td>Baccarat</td>\n",
       "      <td>Other</td>\n",
       "      <td>Baccarat B</td>\n",
       "      <td>EUR</td>\n",
       "      <td>January</td>\n",
       "      <td>-78</td>\n",
       "      <td>184</td>\n",
       "      <td>3</td>\n",
       "      <td>3</td>\n",
       "    </tr>\n",
       "    <tr>\n",
       "      <th>2</th>\n",
       "      <td>2020-07-01</td>\n",
       "      <td>Lipstick Casino</td>\n",
       "      <td>Estonia</td>\n",
       "      <td>Baccarat</td>\n",
       "      <td>Other</td>\n",
       "      <td>Baccarat B</td>\n",
       "      <td>EUR</td>\n",
       "      <td>March</td>\n",
       "      <td>-35</td>\n",
       "      <td>35</td>\n",
       "      <td>1</td>\n",
       "      <td>1</td>\n",
       "    </tr>\n",
       "    <tr>\n",
       "      <th>3</th>\n",
       "      <td>2020-07-01</td>\n",
       "      <td>Lipstick Casino</td>\n",
       "      <td>Estonia</td>\n",
       "      <td>Baccarat</td>\n",
       "      <td>Other</td>\n",
       "      <td>Baccarat C</td>\n",
       "      <td>EUR</td>\n",
       "      <td>January</td>\n",
       "      <td>-25</td>\n",
       "      <td>25</td>\n",
       "      <td>1</td>\n",
       "      <td>1</td>\n",
       "    </tr>\n",
       "    <tr>\n",
       "      <th>4</th>\n",
       "      <td>2020-07-01</td>\n",
       "      <td>Lipstick Casino</td>\n",
       "      <td>Estonia</td>\n",
       "      <td>Baccarat</td>\n",
       "      <td>Other</td>\n",
       "      <td>First Person Baccarat</td>\n",
       "      <td>EUR</td>\n",
       "      <td>January</td>\n",
       "      <td>2</td>\n",
       "      <td>2</td>\n",
       "      <td>2</td>\n",
       "      <td>2</td>\n",
       "    </tr>\n",
       "  </tbody>\n",
       "</table>\n",
       "</div>"
      ],
      "text/plain": [
       "  Month, Year Casino Reference  Country Game category Table Type Commercial  \\\n",
       "0  2020-07-01  Lipstick Casino  Estonia      Baccarat                 Other   \n",
       "1  2020-07-01  Lipstick Casino  Estonia      Baccarat                 Other   \n",
       "2  2020-07-01  Lipstick Casino  Estonia      Baccarat                 Other   \n",
       "3  2020-07-01  Lipstick Casino  Estonia      Baccarat                 Other   \n",
       "4  2020-07-01  Lipstick Casino  Estonia      Baccarat                 Other   \n",
       "\n",
       "              Table name user_currency Month of first_bet_date  GGR Ucur  \\\n",
       "0             Baccarat A           EUR                 January         2   \n",
       "1             Baccarat B           EUR                 January       -78   \n",
       "2             Baccarat B           EUR                   March       -35   \n",
       "3             Baccarat C           EUR                 January       -25   \n",
       "4  First Person Baccarat           EUR                 January         2   \n",
       "\n",
       "   Wager Ucur  Player Game Count  Bet Spot Count  \n",
       "0          85                  4               4  \n",
       "1         184                  3               3  \n",
       "2          35                  1               1  \n",
       "3          25                  1               1  \n",
       "4           2                  2               2  "
      ]
     },
     "metadata": {},
     "output_type": "display_data"
    }
   ],
   "source": [
    "# Load raw data | Carregar dados brutos\n",
    "print(\"Loading raw data...\")\n",
    "raw_data = pd.read_excel(raw_data_path, sheet_name='Casino Data')\n",
    "\n",
    "# Show basic infos | Mostrar informações básicas\n",
    "print(\"\\nInfos abouth raw data:\")\n",
    "print(f\"Total records: {len(raw_data)}\")\n",
    "print(f\"Total columns: {len(raw_data.columns)}\")\n",
    "print(\"\\nFirst 5 rows:\")\n",
    "display(raw_data.head())"
   ]
  },
  {
   "cell_type": "code",
   "execution_count": 8,
   "id": "53ffd217",
   "metadata": {},
   "outputs": [
    {
     "name": "stdout",
     "output_type": "stream",
     "text": [
      "\n",
      "Missing values per column:\n",
      "Month, Year                0\n",
      "Casino Reference           0\n",
      "Country                    0\n",
      "Game category              0\n",
      "Table Type Commercial      0\n",
      "Table name                 0\n",
      "user_currency              0\n",
      "Month of first_bet_date    0\n",
      "GGR Ucur                   0\n",
      "Wager Ucur                 0\n",
      "Player Game Count          0\n",
      "Bet Spot Count             0\n",
      "dtype: int64\n"
     ]
    }
   ],
   "source": [
    "# Checking missing values | Verificar valores ausentes\n",
    "print(\"\\nMissing values per column:\")\n",
    "print(raw_data.isnull().sum())"
   ]
  },
  {
   "cell_type": "code",
   "execution_count": 9,
   "id": "477eebd0",
   "metadata": {},
   "outputs": [
    {
     "name": "stdout",
     "output_type": "stream",
     "text": [
      "\n",
      "Starting preprocessing...\n"
     ]
    }
   ],
   "source": [
    "# Data preprocessing | Pré-processamento dos dados\n",
    "print(\"\\nStarting preprocessing...\")\n",
    "\n",
    "# Convert date column| Converter coluna de data\n",
    "raw_data['Month, Year'] = pd.to_datetime(raw_data['Month, Year'])\n",
    "\n",
    "# Create new temporal features | Criar novas features temporais\n",
    "raw_data['Year'] = raw_data['Month, Year'].dt.year\n",
    "raw_data['Quarter'] = raw_data['Month, Year'].dt.quarter\n",
    "raw_data['Month_Name'] = raw_data['Month, Year'].dt.month_name()\n",
    "\n",
    "# Normalize categories | Normalizar categorias\n",
    "raw_data['Game category'] = raw_data['Game category'].str.title().str.strip()\n",
    "raw_data['Country'] = raw_data['Country'].str.title().str.strip()\n",
    "raw_data['Table Type Commercial'] = raw_data['Table Type Commercial'].str.strip()\n",
    "\n",
    "# Calculate Hold % (GGR / Bet Volume) | Calcular Hold % (GGR / Volume de Apostas)\n",
    "raw_data['Hold_Pct'] = raw_data['GGR Ucur'] / raw_data['Wager Ucur']\n",
    "raw_data['Hold_Pct'] = raw_data['Hold_Pct'].replace([np.inf, -np.inf], np.nan)\n",
    "\n",
    "# Handling extreme negative values | Tratar valores negativos extremos\n",
    "raw_data.loc[raw_data['GGR Ucur'] < -10000, 'GGR Ucur'] = np.nan\n",
    "\n",
    "# Consolidate table types | Consolidar tipos de mesa\n",
    "raw_data['Table_Type_Simplified'] = np.where(\n",
    "    raw_data['Table Type Commercial'].str.contains('High Stakes', case=False),\n",
    "    'High Stakes',\n",
    "    'Regular'\n",
    ")"
   ]
  },
  {
   "cell_type": "code",
   "execution_count": 10,
   "id": "0fabc7f0",
   "metadata": {},
   "outputs": [
    {
     "name": "stdout",
     "output_type": "stream",
     "text": [
      "\n",
      "Processed data saved in: c:\\Users\\lucas\\Documents\\Github Project\\iGaming-Analytics\\data\\processed\\casino_data_processed.csv\n",
      "Pre-processing completed successfully!\n"
     ]
    }
   ],
   "source": [
    "# Save processed data |  Salvar dados processados\n",
    "raw_data.to_csv(processed_data_path, index=False)\n",
    "print(f\"\\nProcessed data saved in: {processed_data_path}\")\n",
    "print(\"Pre-processing completed successfully!\")"
   ]
  }
 ],
 "metadata": {
  "kernelspec": {
   "display_name": "Python 3",
   "language": "python",
   "name": "python3"
  },
  "language_info": {
   "codemirror_mode": {
    "name": "ipython",
    "version": 3
   },
   "file_extension": ".py",
   "mimetype": "text/x-python",
   "name": "python",
   "nbconvert_exporter": "python",
   "pygments_lexer": "ipython3",
   "version": "3.13.2"
  }
 },
 "nbformat": 4,
 "nbformat_minor": 5
}
