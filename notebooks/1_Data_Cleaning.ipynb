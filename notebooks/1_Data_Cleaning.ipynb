{
 "cells": [
  {
   "cell_type": "markdown",
   "id": "9e9db83c",
   "metadata": {},
   "source": [
    "1. Loading and Initial Inspection | Carregamento e Inspeção Inicial"
   ]
  },
  {
   "cell_type": "code",
   "execution_count": null,
   "id": "0839c8e8",
   "metadata": {},
   "outputs": [],
   "source": [
    "import pandas as pd\n",
    "import numpy as np\n",
    "\n",
    "raw_data = pd.read_excel('data/Lipstick_casino_data.xlsx', sheet_name='Casino Data')\n",
    "print(f\"Linhas: {raw_data.shape[0]}, Colunas: {raw_data.shape[1]}\")\n",
    "raw_data.info()"
   ]
  },
  {
   "cell_type": "markdown",
   "id": "c0dfaa65",
   "metadata": {},
   "source": [
    "2. Problem Treatment | Tratamento de Problemas\n",
    "\n",
    "2.1 - Date Conversion | Conversão de Datas"
   ]
  },
  {
   "cell_type": "code",
   "execution_count": null,
   "id": "14e460ea",
   "metadata": {},
   "outputs": [],
   "source": [
    "raw_data['Month, Year'] = pd.to_datetime(raw_data['Month, Year'])"
   ]
  },
  {
   "cell_type": "markdown",
   "id": "1d2529f8",
   "metadata": {},
   "source": [
    "2.2 - Category standardization: | Normalização de categorias:"
   ]
  },
  {
   "cell_type": "code",
   "execution_count": null,
   "id": "3286e8e0",
   "metadata": {},
   "outputs": [],
   "source": [
    "raw_data['Game category'] = raw_data['Game category'].str.strip().str.title()\n",
    "raw_data['Country'] = raw_data['Country'].str.strip().str.title()"
   ]
  },
  {
   "cell_type": "markdown",
   "id": "54e98083",
   "metadata": {},
   "source": [
    "2.3 - Treatment of negative values: | Tratamento de valores negativos:"
   ]
  },
  {
   "cell_type": "code",
   "execution_count": null,
   "id": "3545f77c",
   "metadata": {},
   "outputs": [],
   "source": [
    "raw_data['GGR Ucur'] = np.where(raw_data['GGR Ucur'] < -10000, np.nan, raw_data['GGR Ucur'])"
   ]
  },
  {
   "cell_type": "markdown",
   "id": "529fa080",
   "metadata": {},
   "source": [
    "3. Features Creation | Criação de Features"
   ]
  },
  {
   "cell_type": "code",
   "execution_count": null,
   "id": "20f85e27",
   "metadata": {},
   "outputs": [],
   "source": [
    "raw_data['Quarter'] = raw_data['Month, Year'].dt.quarter\n",
    "raw_data['Hold %'] = raw_data['GGR Ucur'] / raw_data['Wager Ucur']"
   ]
  },
  {
   "cell_type": "markdown",
   "id": "caa5cbd2",
   "metadata": {},
   "source": [
    "4. Export Clean Data | Exportar Dados Limpos"
   ]
  },
  {
   "cell_type": "code",
   "execution_count": null,
   "id": "b9e8a8df",
   "metadata": {},
   "outputs": [],
   "source": [
    "clean_data.to_parquet('data/processed/casino_clean.parquet')"
   ]
  }
 ],
 "metadata": {
  "kernelspec": {
   "display_name": "Python 3",
   "language": "python",
   "name": "python3"
  },
  "language_info": {
   "codemirror_mode": {
    "name": "ipython",
    "version": 3
   },
   "file_extension": ".py",
   "mimetype": "text/x-python",
   "name": "python",
   "nbconvert_exporter": "python",
   "pygments_lexer": "ipython3",
   "version": "3.13.2"
  }
 },
 "nbformat": 4,
 "nbformat_minor": 5
}
