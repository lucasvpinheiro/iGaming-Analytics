{
 "cells": [
  {
   "cell_type": "markdown",
   "id": "8749db3a",
   "metadata": {},
   "source": [
    "# Advanced Analysis | Análises Avançadas\n",
    "\n",
    "## Obtective | Objetivo\n",
    "- Create two new analitics views | Criar duas novas visualizações analíticas\n",
    "- Implement parameters and calculated fields | Implementar parâmetros e campos calculados\n",
    "- Provide additional insights into the data | Fornecer insights adicionais sobre os dados"
   ]
  },
  {
   "cell_type": "code",
   "execution_count": null,
   "id": "01f95def",
   "metadata": {},
   "outputs": [],
   "source": [
    "import pandas as pd\n",
    "import numpy as np\n",
    "import matplotlib.pyplot as plt\n",
    "import seaborn as sns\n",
    "import plotly.express as px\n",
    "from ipywidgets import interact, widgets\n",
    "from pathlib import Path\n",
    "import os\n",
    "\n",
    "# Configure styles | Configurar estilo\n",
    "sns.set(style=\"whitegrid\", palette=\"pastel\")\n",
    "plt.rcParams['font.family'] = 'DejaVu Sans'\n",
    "plt.rcParams['figure.figsize'] = (14, 7)\n",
    "\n",
    "# Configure paths | Configurar paths\n",
    "current_dir = Path.cwd()\n",
    "data_dir = current_dir.parent / 'data'\n",
    "processed_data_path = data_dir / 'processed' / 'casino_data_processed.parquet'\n",
    "reports_dir = current_dir.parent / 'reports'\n",
    "reports_dir.mkdir(exist_ok=True)"
   ]
  },
  {
   "cell_type": "code",
   "execution_count": null,
   "id": "e5ce5ca8",
   "metadata": {},
   "outputs": [],
   "source": [
    "# Load processed data | Carregar dados processados\n",
    "print(\"Loading processed data...\")\n",
    "df = pd.read_parquet(processed_data_path)\n",
    "print(f\"Total records loaded: {len(df)}\")"
   ]
  },
  {
   "cell_type": "markdown",
   "id": "24e8b37c",
   "metadata": {},
   "source": [
    "## Table 5: Retention Analysis (Hold%) by Category | Tabela 5: Análise de Retenção (Hold%) por Categoria"
   ]
  },
  {
   "cell_type": "code",
   "execution_count": null,
   "id": "ab06d8e5",
   "metadata": {},
   "outputs": [],
   "source": [
    "# Calculate average hold% by category and country | Calcular Hold % médio por categoria e país\n",
    "hold_data = df.groupby(['Game category', 'Country']).agg(\n",
    "    Avg_Hold_Pct=('Hold_Pct', 'mean'),\n",
    "    Total_Wager=('Wager Ucur', 'sum')\n",
    ").reset_index()"
   ]
  },
  {
   "cell_type": "code",
   "execution_count": null,
   "id": "a6f50ba7",
   "metadata": {},
   "outputs": [],
   "source": [
    "# Function for plotting with country parameter | Função para plotar com parâmetro de país\n",
    "def plot_hold_performance(country='Estonia'):\n",
    "    \"\"\"Plot retention performance by category for a specific country | Plota desempenho de retenção por categoria para um país específico\"\"\"\n",
    "    country_data = hold_data[hold_data['Country'] == country].sort_values('Avg_Hold_Pct', ascending=True)\n",
    "    \n",
    "    plt.figure(figsize=(12, 8))\n",
    "    bars = plt.barh(country_data['Game category'], country_data['Avg_Hold_Pct'] * 100, \n",
    "                    color=plt.cm.viridis(country_data['Avg_Hold_Pct'].rank(pct=True)))\n",
    "    \n",
    "    # Add values to the bars | Adicionar valores nas barras\n",
    "    for bar in bars:\n",
    "        width = bar.get_width()\n",
    "        plt.text(width + 0.2, bar.get_y() + bar.get_height()/2, \n",
    "                 f'{width:.1f}%', \n",
    "                 va='center', ha='left', fontsize=10)\n",
    "    \n",
    "    # Reference line | Linha de referência\n",
    "    plt.axvline(x=0, color='black', linestyle='--', alpha=0.7)\n",
    "    \n",
    "    plt.title(f'Average Retention by Game Category: {country}', fontsize=16)\n",
    "    plt.xlabel('Average Hold %', fontsize=12)\n",
    "    plt.ylabel('Game Category', fontsize=12)\n",
    "    plt.grid(axis='x', alpha=0.2)\n",
    "    plt.tight_layout()\n",
    "    plt.savefig(reports_dir / f'tabela5_hold_performance_{country}.png', dpi=300)\n",
    "    plt.show()"
   ]
  },
  {
   "cell_type": "code",
   "execution_count": null,
   "id": "9f30a0d8",
   "metadata": {},
   "outputs": [],
   "source": [
    "# Interactive widget for selecting country | Widget interativo para selecionar país\n",
    "print(\"Select a country to analyze:\")\n",
    "interact(plot_hold_performance, \n",
    "         country=widgets.Dropdown(\n",
    "             options=df['Country'].unique(),\n",
    "             value='Estonia',\n",
    "             description='Country:',\n",
    "             style={'description_width': 'initial'}\n",
    "         ))"
   ]
  },
  {
   "cell_type": "markdown",
   "id": "7974be71",
   "metadata": {},
   "source": [
    "# Table 6: Risk-Return Analysis by Category | Tabela 6: Análise de Risco-Retorno por Categoria"
   ]
  },
  {
   "cell_type": "code",
   "execution_count": null,
   "id": "06b17e7b",
   "metadata": {},
   "outputs": [],
   "source": [
    "# Calculate risk metrics by category | Calcular métricas de risco por categoria\n",
    "risk_metrics = df.groupby('Game category').agg(\n",
    "    Avg_GGR=('GGR Ucur', 'mean'),\n",
    "    Std_GGR=('GGR Ucur', 'std'),\n",
    "    Total_Wager=('Wager Ucur', 'sum'),\n",
    "    Player_Count=('Player Game Count', 'sum')\n",
    ").reset_index()\n",
    "\n",
    "# Calculate risk index (Volatility/Return) | Calcular índice de risco (Volatilidade/Retorno)\n",
    "risk_metrics['Risk_Index'] = risk_metrics['Std_GGR'] / risk_metrics['Avg_GGR'].abs()\n"
   ]
  },
  {
   "cell_type": "code",
   "execution_count": null,
   "id": "32123692",
   "metadata": {},
   "outputs": [],
   "source": [
    "# Plot risk-return analysis | Plotar análise de risco-retorno\n",
    "plt.figure(figsize=(14, 9))\n",
    "\n",
    "# Define point size based on bet volume | Definir tamanho dos pontos baseado no volume de apostas\n",
    "size = risk_metrics['Total_Wager'] / risk_metrics['Total_Wager'].max() * 1500\n",
    "\n",
    "# Create scatter plot | Criar scatter plot\n",
    "scatter = sns.scatterplot(\n",
    "    data=risk_metrics,\n",
    "    x='Avg_GGR',\n",
    "    y='Risk_Index',\n",
    "    size='Total_Wager',\n",
    "    sizes=(100, 1000),\n",
    "    hue='Game category',\n",
    "    palette='viridis',\n",
    "    alpha=0.8\n",
    ")\n",
    "\n",
    "# Add labels | Adicionar rótulos\n",
    "for i, row in risk_metrics.iterrows():\n",
    "    plt.annotate(row['Game category'], \n",
    "                 (row['Avg_GGR'], row['Risk_Index']),\n",
    "                 xytext=(5, 5),\n",
    "                 textcoords='offset points',\n",
    "                 fontsize=10)\n",
    "\n",
    "# Reference line | Linhas de referência\n",
    "plt.axvline(0, color='red', linestyle='--', alpha=0.5)\n",
    "plt.axhline(risk_metrics['Risk_Index'].mean(), color='blue', linestyle='--', alpha=0.5)\n",
    "\n",
    "# Chart settings | Configurações do gráfico\n",
    "plt.title('Risk-Return Analysis by Game Category', fontsize=16)\n",
    "plt.xlabel('Average Return (GGR)', fontsize=12)\n",
    "plt.ylabel('Risk Index (Volality/Return)', fontsize=12)\n",
    "plt.grid(True, alpha=0.2)\n",
    "plt.legend(title='Game Category', bbox_to_anchor=(1.05, 1), loc='upper left')\n",
    "\n",
    "# Format axes | Formatar eixos\n",
    "plt.xscale('symlog')\n",
    "plt.yscale('log')\n",
    "\n",
    "# Salve figure | Salvar figura\n",
    "plt.tight_layout()\n",
    "plt.savefig(reports_dir / 'tabela6_risk_return.png', dpi=300)\n",
    "plt.show()"
   ]
  },
  {
   "cell_type": "markdown",
   "id": "71990189",
   "metadata": {},
   "source": [
    "## Conclusion of Advanced Analysis\n",
    "\n",
    "**Key Insights:**\n",
    "1. **Retention Analysis (Table 5):**\n",
    "    - The categories with the highest retention (Hold%) are...\n",
    "    - Different countries have different retention profiles...\n",
    "\n",
    "2. **Risk-Return Analysis (Table 6):**\n",
    "    - Categories with low risk indices are ideal for stable operations...\n",
    "\n",
    "**Recommendations:**\n",
    "- Increase exposure in categories X and Y, which combine good retention and low risk\n",
    "- Review strategy for high-risk categories such as Z\n",
    "\n",
    "\n",
    "----------------------------------------\n",
    "\n",
    "## Conclusão da Análise Avançada\n",
    "\n",
    "**Principais Insights:**\n",
    "1. **Análise de Retenção (Tablea 5):**\n",
    "    - As categorias com maior retenção (Hold%) são...\n",
    "    - Países diferentes apresentam perfis de retenção distintos...\n",
    "\n",
    "2. **Análise de Risco-Retorno (Tabela 6):**\n",
    "    - Categorias no quadrante superior direito representam alto risco e alto retorno...\n",
    "    - Categorias com baixo índice de risco são ideais para operações estáveis...\n",
    "\n",
    "**Recomendações:**\n",
    "- Aumentar exposição nas categorias X e Y que combinam boa retenção e baixo risco\n",
    "- Revisar estratégia para categorias de alto risco como Z"
   ]
  }
 ],
 "metadata": {
  "language_info": {
   "name": "python"
  }
 },
 "nbformat": 4,
 "nbformat_minor": 5
}
