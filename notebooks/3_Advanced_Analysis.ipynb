{
 "cells": [
  {
   "cell_type": "markdown",
   "id": "b3a617f1",
   "metadata": {},
   "source": [
    "View 5: ROI by Category (With Parameter) | Visualização 5: ROI por Categoria (Com Parâmetro)"
   ]
  },
  {
   "cell_type": "code",
   "execution_count": null,
   "id": "91297855",
   "metadata": {},
   "outputs": [],
   "source": [
    "# Interactive Widget | Widget interativo\n",
    "from ipywidgets import interact\n",
    "\n",
    "@interact(Country=list(clean_data['Country'].unique()))\n",
    "def plot_roi(Country):\n",
    "    df_country = clean_data[clean_data['Country'] == Country]\n",
    "    roi = df_country.groupby('Game category')['Hold %'].mean().sort_values()\n",
    "    roi.plot(kind='barh', title=f'Hold % - {Country}')"
   ]
  },
  {
   "cell_type": "markdown",
   "id": "17631f0c",
   "metadata": {},
   "source": [
    "View 6: Risk Analysis | Visualização 6: Análise de Risco"
   ]
  },
  {
   "cell_type": "code",
   "execution_count": null,
   "id": "f312b3c2",
   "metadata": {},
   "outputs": [],
   "source": [
    "risk_analysis = clean_data.groupby('Game category').agg(\n",
    "    Avg_GGR=('GGR Ucur', 'mean'),\n",
    "    Volatility=('GGR Ucur', 'std'),\n",
    "    Total_Wager=('Wager Ucur', 'sum')\n",
    ")\n",
    "\n",
    "plt.figure(figsize=(12,8))\n",
    "sns.scatterplot(data=risk_analysis, x='Avg_GGR', y='Volatility', size='Total_Wager', hue=risk_analysis.index)\n",
    "plt.legend(bbox_to_anchor=(1.05, 1))"
   ]
  }
 ],
 "metadata": {
  "language_info": {
   "name": "python"
  }
 },
 "nbformat": 4,
 "nbformat_minor": 5
}
