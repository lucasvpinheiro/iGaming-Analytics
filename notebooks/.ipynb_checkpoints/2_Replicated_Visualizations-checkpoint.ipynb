{
 "cells": [
  {
   "cell_type": "markdown",
   "id": "f5343a58",
   "metadata": {},
   "source": [
    "# Replicated Visualizations | Visualizações replicadas\n",
    "\n",
    "## Objective | Objetivo:\n",
    "- Recreate the views as desired | Recriar as visualizações conforme desejado\n",
    "- Execution of Tables 1-4 as specified (README) | Execução das Tabelas 1-4 conforme especificado (README)"
   ]
  },
  {
   "cell_type": "code",
   "execution_count": null,
   "id": "edde79ab",
   "metadata": {},
   "outputs": [],
   "source": [
    "import pandas as pd\n",
    "import numpy as np\n",
    "import matplotlib.pyplot as plt\n",
    "import seaborn as sns\n",
    "import plotly.express as px\n",
    "from pathlib import Path\n",
    "from matplotlib.ticker import FuncFormatter\n",
    "import os\n",
    "\n",
    "# Configure styles | Configurar estilo\n",
    "sns.set(style=\"whitegrid\", palette=\"pastel\")\n",
    "plt.rcParams['font.family'] = 'DejaVu Sans'\n",
    "plt.rcParams['figure.figsize'] = (14, 7)\n",
    "\n",
    "# Configure paths | Configurar paths\n",
    "current_dir = Path.cwd()\n",
    "data_dir = current_dir.parent / 'data'\n",
    "processed_data_path = data_dir / 'processed' / 'casino_data_processed.parquet'\n",
    "reports_dir = current_dir.parent / 'reports'\n",
    "reports_dir.mkdir(exist_ok=True)"
   ]
  },
  {
   "cell_type": "code",
   "execution_count": null,
   "id": "4f3b653e",
   "metadata": {},
   "outputs": [],
   "source": [
    "# Load processed data | Carregar dados processados\n",
    "print(\"Loading processed data...\")\n",
    "df = pd.read_parquet(processed_data_path)\n",
    "print(f\"Total of load records: {len(df)}\")"
   ]
  },
  {
   "cell_type": "code",
   "execution_count": null,
   "id": "c9a7b27b",
   "metadata": {},
   "outputs": [],
   "source": [
    "# Auxiliary function for currency formatting | Função auxiliar para formatação de moeda\n",
    "def format_currency(x, pos):\n",
    "    \"\"\"Formats values in euros for display (en)\n",
    "    Formata valores em euros para visualização (pt-br)\"\"\"\n",
    "    return f'€{x/1000:,.0f}K' if abs(x) >= 1000 else f'€{x:,.0f}'"
   ]
  },
  {
   "cell_type": "markdown",
   "id": "c4be1390",
   "metadata": {},
   "source": [
    "# Table 1: Monthly Performance (New Players vs GGR) | Tabela 1: Desempenho Mensal (Novos Jogadores vs GGR)"
   ]
  },
  {
   "cell_type": "code",
   "execution_count": null,
   "id": "de758178",
   "metadata": {},
   "outputs": [],
   "source": [
    "# Calculate new players pr month (first_bet_date in the current month) | Calcular novos jogadores por mês (first_bet_date no mês atual)\n",
    "df['First_Bet_Month'] = pd.to_datetime(df['Month of first_bet_date'], errors='coerce').dt.to_period('M')\n",
    "df['Month_Period'] = df['Month, Year'].dt.to_period('M')\n",
    "df['Is_New_Player'] = df['First_Bet_Month'] == df['Month_Period']\n",
    "\n",
    "monthly_performance = df.groupby('Month_Period').agg(\n",
    "    New_Players=('Is_New_Player', 'sum'),\n",
    "    Total_GGR=('GGR Ucur', 'sum')\n",
    ").reset_index()\n",
    "\n",
    "# Convert period back to datetime | Converter período de volta para datetime\n",
    "monthly_performance['Month_Date'] = monthly_performance['Month_Period'].dt.to_timestamp()"
   ]
  },
  {
   "cell_type": "code",
   "execution_count": null,
   "id": "1748bd60",
   "metadata": {},
   "outputs": [],
   "source": [
    "# Table 1 Plot | Plotar Tabela 1\n",
    "plt.figure(figsize=(14, 7))\n",
    "ax1 = plt.gca()\n",
    "ax2 = ax1.twinx()\n",
    "\n",
    "# New PLayers | Novos jogadores\n",
    "sns.lineplot(data=monthly_performance, x='Month_Date', y='New_Players', \n",
    "             ax=ax1, color='teal', marker='o', linewidth=2.5, label='New Players')\n",
    "ax1.set_ylabel('New Players', color='teal', fontsize=12)\n",
    "ax1.tick_params(axis='y', labelcolor='teal')\n",
    "ax1.set_ylim(bottom=0)\n",
    "\n",
    "# GGR\n",
    "sns.lineplot(data=monthly_performance, x='Month_Date', y='Total_GGR', \n",
    "             ax=ax2, color='coral', marker='s', linewidth=2.5, label='GGR')\n",
    "ax2.set_ylabel('Total Game Revenue (GGR)', color='coral', fontsize=12)\n",
    "ax2.tick_params(axis='y', labelcolor='coral')\n",
    "ax2.yaxis.set_major_formatter(FuncFormatter(format_currency))\n",
    "\n",
    "# General Configurations | Configurações gerais\n",
    "plt.title('Monthly Performance: New Players vs. Game Revenue', fontsize=16, pad=20)\n",
    "plt.xlabel('Month', fontsize=12)\n",
    "ax1.legend(loc='upper left')\n",
    "ax2.legend(loc='upper right')\n",
    "plt.grid(True, alpha=0.2)\n",
    "plt.tight_layout()\n",
    "plt.savefig(reports_dir / 'tabela1_monthly_performance.png', dpi=300)\n",
    "plt.show()"
   ]
  },
  {
   "cell_type": "markdown",
   "id": "76e679d9",
   "metadata": {},
   "source": [
    "# Table 2: Quarterly Variation | Tabela 2: Variação Trimestral"
   ]
  },
  {
   "cell_type": "code",
   "execution_count": null,
   "id": "b3685e76",
   "metadata": {},
   "outputs": [],
   "source": [
    "# Calculate quaterly metrics | Calcular métricas trimestrais\n",
    "quarterly = df.groupby(['Year', 'Quarter']).agg(\n",
    "    Total_GGR=('GGR Ucur', 'sum'),\n",
    "    Total_Wager=('Wager Ucur', 'sum')\n",
    ").reset_index()\n",
    "\n",
    "# Calculate percentage change | Calcular variação percentual\n",
    "quarterly['GGR_Pct_Change'] = quarterly['Total_GGR'].pct_change() * 100\n",
    "quarterly['Wager_Pct_Change'] = quarterly['Total_Wager'].pct_change() * 100\n",
    "\n",
    "# Create label for quarter | Criar rótulo para trimestre\n",
    "quarterly['Quarter_Label'] = quarterly['Year'].astype(str) + 'T' + quarterly['Quarter'].astype(str)"
   ]
  },
  {
   "cell_type": "code",
   "execution_count": null,
   "id": "a4175046",
   "metadata": {},
   "outputs": [],
   "source": [
    "# Table 3 plot | Plotar Tabela 2\n",
    "plt.figure(figsize=(12, 6))\n",
    "colors = ['green' if x > 0 else 'red' for x in quarterly['GGR_Pct_Change']]\n",
    "bars = plt.bar(quarterly['Quarter_Label'], quarterly['GGR_Pct_Change'], color=colors)\n",
    "\n",
    "# Add value label | Adicionar rótulos de valor\n",
    "for bar in bars:\n",
    "    height = bar.get_height()\n",
    "    plt.text(bar.get_x() + bar.get_width()/2., \n",
    "             height + (1 if height > 0 else -3), \n",
    "             f'{height:.1f}%', \n",
    "             ha='center', \n",
    "             va='bottom' if height > 0 else 'top',\n",
    "             color='black',\n",
    "             fontsize=10)\n",
    "\n",
    "plt.axhline(0, color='black', linewidth=0.8)\n",
    "plt.title('Quarterly Variation in Gaming Revenue (GGR)', fontsize=16, pad=15)\n",
    "plt.ylabel('Percentage Variation (%)', fontsize=12)\n",
    "plt.xlabel('Quarter', fontsize=12)\n",
    "plt.xticks(rotation=45)\n",
    "plt.grid(axis='y', alpha=0.2)\n",
    "plt.tight_layout()\n",
    "plt.savefig(reports_dir / 'tabela2_quarterly_variation.png', dpi=300)\n",
    "plt.show()"
   ]
  },
  {
   "cell_type": "markdown",
   "id": "dd0bed8f",
   "metadata": {},
   "source": [
    "# Table 3: Blackjack Analysis by Time of Day | Tabela 3: Análise de Blackjack por Período do Dia"
   ]
  },
  {
   "cell_type": "code",
   "execution_count": null,
   "id": "8e84038a",
   "metadata": {},
   "outputs": [],
   "source": [
    "# Prepare specific data for Blackjack | Preparar dados específicos para Blackjack\n",
    "blackjack_df = df[df['Game category'] == 'Blackjack'].copy()\n",
    "\n",
    "# Simulate time data (since we do not have it in the original data) | Simular dados de horário (já que não temos nos dados originais)\n",
    "np.random.seed(42)\n",
    "blackjack_df['Hour'] = np.random.randint(0, 24, size=len(blackjack_df))\n",
    "\n",
    "# Classify as morning or afternoon | Classificar como manhã ou tarde\n",
    "blackjack_df['Time_Period'] = np.where(\n",
    "    blackjack_df['Hour'] < 12, \n",
    "    'Manhã (00:00-11:59)', \n",
    "    'Tarde (12:00-23:59)'\n",
    ")\n",
    "\n",
    "# Group by period and table type | Agrupar por período e tipo de mesa\n",
    "blackjack_grouped = blackjack_df.groupby(['Time_Period', 'Table_Type_Simplified']).size().unstack()"
   ]
  },
  {
   "cell_type": "code",
   "execution_count": null,
   "id": "61e1aec5",
   "metadata": {},
   "outputs": [],
   "source": [
    "# Table 3 Plot | Plotar Tabela 3\n",
    "fig, axes = plt.subplots(1, 2, figsize=(14, 6))\n",
    "\n",
    "# Morning | Manhã\n",
    "blackjack_grouped.loc['Morning (00:00-11:59)'].plot.pie(\n",
    "    ax=axes[0], \n",
    "    autopct='%1.1f%%', \n",
    "    startangle=90,\n",
    "    colors=['#66c2a5', '#fc8d62'],\n",
    "    wedgeprops={'edgecolor': 'w', 'linewidth': 2},\n",
    "    textprops={'fontsize': 12}\n",
    ")\n",
    "axes[0].set_ylabel('')\n",
    "axes[0].set_title('Distribution - Morning', fontsize=14)\n",
    "\n",
    "# Afternoon | Tarde\n",
    "blackjack_grouped.loc['Afternoon (12:00-23:59)'].plot.pie(\n",
    "    ax=axes[1], \n",
    "    autopct='%1.1f%%', \n",
    "    startangle=90,\n",
    "    colors=['#66c2a5', '#fc8d62'],\n",
    "    wedgeprops={'edgecolor': 'w', 'linewidth': 2},\n",
    "    textprops={'fontsize': 12}\n",
    ")\n",
    "axes[1].set_ylabel('')\n",
    "axes[1].set_title('Distribution - Afternoon', fontsize=14)\n",
    "\n",
    "plt.suptitle('Distribution of Blackjack Tables by Time of Day', fontsize=16)\n",
    "plt.tight_layout(rect=[0, 0, 1, 0.95])\n",
    "plt.savefig(reports_dir / 'tabela3_blackjack_time.png', dpi=300)\n",
    "plt.show()"
   ]
  },
  {
   "cell_type": "markdown",
   "id": "31f97e63",
   "metadata": {},
   "source": [
    "## Table 4: Category Ranking by Country | Tabela 4: Ranking de Categorias por País"
   ]
  },
  {
   "cell_type": "code",
   "execution_count": null,
   "id": "56f48062",
   "metadata": {},
   "outputs": [],
   "source": [
    "# Calculate GGR by Country and Category | Calcular GGR por país e categoria\n",
    "country_cat = df.groupby(['Country', 'Game category'])['GGR Ucur'].sum().reset_index()\n",
    "\n",
    "# Create ranking | Criar ranking\n",
    "country_cat['Rank'] = country_cat.groupby('Country')['GGR Ucur'].rank(ascending=False, method='dense')\n",
    "\n",
    "# Filter top 3 by country | Filtrar top 3 por país\n",
    "top_country_cat = country_cat[country_cat['Rank'] <= 3].sort_values(['Country', 'Rank'])"
   ]
  },
  {
   "cell_type": "code",
   "execution_count": null,
   "id": "a08efddc",
   "metadata": {},
   "outputs": [],
   "source": [
    "# Plot Table 4 with Plotly | Plotar Tabela 4 com Plotly\n",
    "fig = px.treemap(\n",
    "    top_country_cat,\n",
    "    path=['Country', 'Game category'],\n",
    "    values='GGR Ucur',\n",
    "    color='Rank',\n",
    "    color_continuous_scale='Blues',\n",
    "    title='Top 3 Game Categories by Country (Based on Revenue)',\n",
    "    hover_data={'GGR Ucur': ':,.0f'},\n",
    "    height=600\n",
    ")\n",
    "\n",
    "fig.update_traces(\n",
    "    textinfo=\"label+value+percent parent\",\n",
    "    texttemplate=\"<b>%{label}</b><br>Receita: €%{value:,.0f}<br>%{percentParent:.1%}\",\n",
    "    hovertemplate=\"<b>%{label}</b><br>Receita: €%{value:,.0f}<br>Rank: %{color}\",\n",
    "    marker=dict(line=dict(color='white', width=1))\n",
    ")\n",
    "\n",
    "fig.update_layout(margin=dict(t=50, l=25, r=25, b=25))\n",
    "fig.write_html(reports_dir / 'tabela4_categories_ranking.html')\n",
    "fig.show()"
   ]
  }
 ],
 "metadata": {
  "language_info": {
   "name": "python"
  }
 },
 "nbformat": 4,
 "nbformat_minor": 5
}
