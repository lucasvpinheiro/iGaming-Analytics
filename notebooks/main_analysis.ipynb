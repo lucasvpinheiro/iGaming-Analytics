{
 "cells": [
  {
   "cell_type": "code",
   "execution_count": null,
   "id": "af5cfc3e",
   "metadata": {},
   "outputs": [],
   "source": [
    "import sys\n",
    "sys.path.append('../src')\n",
    "from data_processing import load_and_preprocess, calculate_player_metrics, prepare_blackhacj_data, calculate_risk_metrics\n",
    "from visualization import *"
   ]
  },
  {
   "cell_type": "markdown",
   "id": "74e5e6ea",
   "metadata": {},
   "source": [
    "# 1. Load and process data | Carregar e processar dados"
   ]
  },
  {
   "cell_type": "code",
   "execution_count": null,
   "id": "f223f0ef",
   "metadata": {},
   "outputs": [],
   "source": [
    "file_path = \"../data/Lipstick_cassino_data.xlsx\"\n",
    "df = load_and_preprocess(file_path)"
   ]
  },
  {
   "cell_type": "markdown",
   "id": "bf244c78",
   "metadata": {},
   "source": [
    "# 2. Calculate player metrics | Calcular métricas de jogadores"
   ]
  },
  {
   "cell_type": "code",
   "execution_count": null,
   "id": "ff97801a",
   "metadata": {},
   "outputs": [],
   "source": [
    "player_metrics = calculate_player_metrics(df)\n",
    "full_df = pd.merge(df, player_metrics, on=['Month, Year', 'Country'])"
   ]
  },
  {
   "cell_type": "markdown",
   "id": "2e07f0c3",
   "metadata": {},
   "source": [
    "# 3. Replicated views | Visualizações replicadas"
   ]
  },
  {
   "cell_type": "code",
   "execution_count": null,
   "id": "48706cad",
   "metadata": {},
   "outputs": [],
   "source": [
    "plot_monthly_performance(player_metrics, country='Estonia', save_path=\"../reports/monthly_performance_estonia.png\")\n",
    "plot_quarterly_change(full_df, metric='GGR Ucur', save_path=\"../reports/quarterly_change_ggr.png\")"
   ]
  },
  {
   "cell_type": "markdown",
   "id": "a2971535",
   "metadata": {},
   "source": [
    "# 4. Blackjack Analysis | Análise de Blackjack"
   ]
  },
  {
   "cell_type": "code",
   "execution_count": null,
   "id": "c2f3c4b1",
   "metadata": {},
   "outputs": [],
   "source": [
    "blackjack_df = prepare_blackjack_data(full_df)\n",
    "plot_blackjack_time_split(blackjack_df, save_path=\"../reports/blackjack_time_split.png\")"
   ]
  },
  {
   "cell_type": "markdown",
   "id": "43496e9d",
   "metadata": {},
   "source": [
    "# 5. Ranking by country | Ranking por País"
   ]
  },
  {
   "cell_type": "code",
   "execution_count": null,
   "id": "448da096",
   "metadata": {},
   "outputs": [],
   "source": [
    "plot_country_category_rankings(full_df, save_path=\"../reports/category_rankings.html\")"
   ]
  },
  {
   "cell_type": "markdown",
   "id": "1276462c",
   "metadata": {},
   "source": [
    "# 6. New views | Novas visualizações"
   ]
  },
  {
   "cell_type": "code",
   "execution_count": null,
   "id": "39bb6467",
   "metadata": {},
   "outputs": [],
   "source": [
    "risk_metrics = calculate_risk_metrics(full_df)\n",
    "plot_risk_return(risk_metrics, save_path=\"../reports/risk_return_analysis.png\")\n",
    "plot_hold_performance(full_df, country_param='Finland', save_path=\"../reports/hold_performance_finland.png\")"
   ]
  }
 ],
 "metadata": {
  "language_info": {
   "name": "python"
  }
 },
 "nbformat": 4,
 "nbformat_minor": 5
}
